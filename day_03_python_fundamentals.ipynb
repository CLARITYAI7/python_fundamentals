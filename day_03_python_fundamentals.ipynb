{
 "cells": [
  {
   "cell_type": "markdown",
   "id": "f993f408",
   "metadata": {},
   "source": [
    "# Dictionary"
   ]
  },
  {
   "cell_type": "code",
   "execution_count": 4,
   "id": "b0b96f09",
   "metadata": {},
   "outputs": [],
   "source": [
    "temp = dict()"
   ]
  },
  {
   "cell_type": "code",
   "execution_count": 5,
   "id": "d48b8625",
   "metadata": {},
   "outputs": [
    {
     "data": {
      "text/plain": [
       "{}"
      ]
     },
     "execution_count": 5,
     "metadata": {},
     "output_type": "execute_result"
    }
   ],
   "source": [
    "temp"
   ]
  },
  {
   "cell_type": "code",
   "execution_count": 6,
   "id": "c380a565",
   "metadata": {},
   "outputs": [
    {
     "data": {
      "text/plain": [
       "dict"
      ]
     },
     "execution_count": 6,
     "metadata": {},
     "output_type": "execute_result"
    }
   ],
   "source": [
    "type(temp)"
   ]
  },
  {
   "cell_type": "code",
   "execution_count": 7,
   "id": "87406274",
   "metadata": {},
   "outputs": [],
   "source": [
    "temp['country'] = 'India'"
   ]
  },
  {
   "cell_type": "code",
   "execution_count": 8,
   "id": "6d9bedd9",
   "metadata": {},
   "outputs": [
    {
     "data": {
      "text/plain": [
       "{'country': 'India'}"
      ]
     },
     "execution_count": 8,
     "metadata": {},
     "output_type": "execute_result"
    }
   ],
   "source": [
    "temp"
   ]
  },
  {
   "cell_type": "code",
   "execution_count": 9,
   "id": "6cfbfcdf",
   "metadata": {},
   "outputs": [],
   "source": [
    "dict_name = {\"key1\":\"value1\", \"key2\":\"value2\"}"
   ]
  },
  {
   "cell_type": "code",
   "execution_count": 24,
   "id": "90e1e14b",
   "metadata": {},
   "outputs": [],
   "source": [
    "car = {\"brand\":\"Ford\",\n",
    "       \"model\":\"ABC\",\n",
    "       \"year\":2023\n",
    "      }"
   ]
  },
  {
   "cell_type": "code",
   "execution_count": 25,
   "id": "97a08e2e",
   "metadata": {},
   "outputs": [
    {
     "data": {
      "text/plain": [
       "{'brand': 'Ford', 'model': 'ABC', 'year': 2023}"
      ]
     },
     "execution_count": 25,
     "metadata": {},
     "output_type": "execute_result"
    }
   ],
   "source": [
    "car"
   ]
  },
  {
   "cell_type": "code",
   "execution_count": 26,
   "id": "1ee878ab",
   "metadata": {},
   "outputs": [
    {
     "data": {
      "text/plain": [
       "2023"
      ]
     },
     "execution_count": 26,
     "metadata": {},
     "output_type": "execute_result"
    }
   ],
   "source": [
    "car['year']"
   ]
  },
  {
   "cell_type": "code",
   "execution_count": 27,
   "id": "a49105e9",
   "metadata": {},
   "outputs": [
    {
     "data": {
      "text/plain": [
       "'ABC'"
      ]
     },
     "execution_count": 27,
     "metadata": {},
     "output_type": "execute_result"
    }
   ],
   "source": [
    "car['model']"
   ]
  },
  {
   "cell_type": "code",
   "execution_count": 28,
   "id": "14e9e874",
   "metadata": {},
   "outputs": [],
   "source": [
    "car['state'] = \"MH\""
   ]
  },
  {
   "cell_type": "code",
   "execution_count": 29,
   "id": "6664a1e4",
   "metadata": {},
   "outputs": [
    {
     "data": {
      "text/plain": [
       "{'brand': 'Ford', 'model': 'ABC', 'year': 2023, 'state': 'MH'}"
      ]
     },
     "execution_count": 29,
     "metadata": {},
     "output_type": "execute_result"
    }
   ],
   "source": [
    "car"
   ]
  },
  {
   "cell_type": "code",
   "execution_count": 30,
   "id": "a53c2c35",
   "metadata": {},
   "outputs": [],
   "source": [
    "car['model'] = 'BMW'"
   ]
  },
  {
   "cell_type": "code",
   "execution_count": 17,
   "id": "28cbefaf",
   "metadata": {},
   "outputs": [
    {
     "data": {
      "text/plain": [
       "{'brand': 'Ford', 'model': 'BMW', 'year': 2023, 'state': 'MH'}"
      ]
     },
     "execution_count": 17,
     "metadata": {},
     "output_type": "execute_result"
    }
   ],
   "source": [
    "car"
   ]
  },
  {
   "cell_type": "code",
   "execution_count": 18,
   "id": "37b27abd",
   "metadata": {},
   "outputs": [],
   "source": [
    "car = car.clear()"
   ]
  },
  {
   "cell_type": "code",
   "execution_count": 21,
   "id": "9ee63047",
   "metadata": {},
   "outputs": [
    {
     "name": "stdout",
     "output_type": "stream",
     "text": [
      "None\n"
     ]
    }
   ],
   "source": [
    "print(car)"
   ]
  },
  {
   "cell_type": "code",
   "execution_count": 33,
   "id": "248a1500",
   "metadata": {},
   "outputs": [],
   "source": [
    "car = {\"brand\":\"Ford\",\n",
    "       \"model\":\"ABC\",\n",
    "       \"year\":2023,\n",
    "       \"state\":\"MH\"\n",
    "      }"
   ]
  },
  {
   "cell_type": "code",
   "execution_count": 34,
   "id": "e5e5f397",
   "metadata": {},
   "outputs": [
    {
     "data": {
      "text/plain": [
       "dict_keys(['brand', 'model', 'year', 'state'])"
      ]
     },
     "execution_count": 34,
     "metadata": {},
     "output_type": "execute_result"
    }
   ],
   "source": [
    "car.keys()"
   ]
  },
  {
   "cell_type": "code",
   "execution_count": 35,
   "id": "fb0e1cca",
   "metadata": {},
   "outputs": [
    {
     "data": {
      "text/plain": [
       "dict_values(['Ford', 'ABC', 2023, 'MH'])"
      ]
     },
     "execution_count": 35,
     "metadata": {},
     "output_type": "execute_result"
    }
   ],
   "source": [
    "car.values()"
   ]
  },
  {
   "cell_type": "code",
   "execution_count": null,
   "id": "154abf5f",
   "metadata": {},
   "outputs": [],
   "source": []
  }
 ],
 "metadata": {
  "kernelspec": {
   "display_name": "Python 3 (ipykernel)",
   "language": "python",
   "name": "python3"
  },
  "language_info": {
   "codemirror_mode": {
    "name": "ipython",
    "version": 3
   },
   "file_extension": ".py",
   "mimetype": "text/x-python",
   "name": "python",
   "nbconvert_exporter": "python",
   "pygments_lexer": "ipython3",
   "version": "3.9.13"
  }
 },
 "nbformat": 4,
 "nbformat_minor": 5
}
